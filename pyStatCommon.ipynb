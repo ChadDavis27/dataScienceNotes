{
 "cells": [
  {
   "cell_type": "code",
   "execution_count": 11,
   "metadata": {},
   "outputs": [
    {
     "name": "stdout",
     "output_type": "stream",
     "text": [
      "[0 1 2 3 4]\n",
      "[10.    4.    0.    1.41  0.  ]\n"
     ]
    }
   ],
   "source": [
    "import numpy as np\n",
    "import pandas as pd\n",
    "\n",
    "def sumStat(values):\n",
    "    '''\n",
    "    Return the common stats for a given array\n",
    "    '''\n",
    "    valSum = np.zeros(5, dtype=\"float\")\n",
    "    valSum[0] = np.round(np.add.reduce(values), decimals = 2)\n",
    "    valSum[1] = np.round(np.max(values), decimals = 2)\n",
    "    valSum[2] = np.round(np.min(values), decimals = 2)\n",
    "    valSum[3] = np.round(np.std(values), decimals = 2)\n",
    "    valSum[4] = np.round(np.len(values), decimals = 2)\n",
    "\n",
    "    return valSum\n",
    "\n",
    "values = np.arange(5)\n",
    "print(values)\n",
    "print(summary(values))"
   ]
  }
 ],
 "metadata": {
  "kernelspec": {
   "display_name": "Python 3",
   "language": "python",
   "name": "python3"
  },
  "language_info": {
   "codemirror_mode": {
    "name": "ipython",
    "version": 3
   },
   "file_extension": ".py",
   "mimetype": "text/x-python",
   "name": "python",
   "nbconvert_exporter": "python",
   "pygments_lexer": "ipython3",
   "version": "3.7.3"
  }
 },
 "nbformat": 4,
 "nbformat_minor": 4
}
