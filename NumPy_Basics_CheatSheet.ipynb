{
 "cells": [
  {
   "cell_type": "code",
   "execution_count": 125,
   "metadata": {},
   "outputs": [
    {
     "name": "stdout",
     "output_type": "stream",
     "text": [
      "The autoreload extension is already loaded. To reload it, use:\n",
      "  %reload_ext autoreload\n"
     ]
    }
   ],
   "source": [
    "%load_ext autoreload\n",
    "import numpy as np"
   ]
  },
  {
   "cell_type": "code",
   "execution_count": 126,
   "metadata": {},
   "outputs": [],
   "source": [
    "# Some Setup\n",
    "np.random.seed(0)\n",
    "x1 = np.random.randint(10, size=6)\n",
    "x2 = np.random.randint(10, size=(3,4))\n",
    "x3 = np.random.randint(10, size=(3, 4, 5))"
   ]
  },
  {
   "cell_type": "code",
   "execution_count": 127,
   "metadata": {},
   "outputs": [
    {
     "data": {
      "text/plain": [
       "array([[0.65279032, 0.63505887, 0.99529957],\n",
       "       [0.58185033, 0.41436859, 0.4746975 ],\n",
       "       [0.6235101 , 0.33800761, 0.67475232]])"
      ]
     },
     "execution_count": 127,
     "metadata": {},
     "output_type": "execute_result"
    }
   ],
   "source": [
    "# Create a 3X3 array with uniformly distributed values between 0 and 1\n",
    "np.random.random((3,3))  "
   ]
  },
  {
   "cell_type": "code",
   "execution_count": 128,
   "metadata": {},
   "outputs": [
    {
     "data": {
      "text/plain": [
       "array([[ 1.0657892 , -0.69993739,  0.14407911],\n",
       "       [ 0.3985421 ,  0.02686925,  1.05583713],\n",
       "       [-0.07318342, -0.66572066, -0.04411241]])"
      ]
     },
     "execution_count": 128,
     "metadata": {},
     "output_type": "execute_result"
    }
   ],
   "source": [
    "# Create a 3X3 array with normally distributed random values between 0 and 1 with a mean of 0 and std of 1\n",
    "np.random.normal(0, 1, (3,3))"
   ]
  },
  {
   "cell_type": "code",
   "execution_count": 129,
   "metadata": {},
   "outputs": [
    {
     "data": {
      "text/plain": [
       "array([[2, 3, 4],\n",
       "       [4, 5, 6],\n",
       "       [6, 7, 8]])"
      ]
     },
     "execution_count": 129,
     "metadata": {},
     "output_type": "execute_result"
    }
   ],
   "source": [
    "# Nested Lists result in multidimensional arrays\n",
    "np.array([range(i, i + 3) for i in [2, 4, 6]])"
   ]
  },
  {
   "cell_type": "code",
   "execution_count": 130,
   "metadata": {},
   "outputs": [
    {
     "data": {
      "text/plain": [
       "array([0, 0, 0, 0, 0, 0, 0, 0, 0, 0])"
      ]
     },
     "execution_count": 130,
     "metadata": {},
     "output_type": "execute_result"
    }
   ],
   "source": [
    "# An \"empty\" array with 10 zeros\n",
    "np.zeros(10, dtype=int)"
   ]
  },
  {
   "cell_type": "markdown",
   "metadata": {},
   "source": [
    "<H1 style=\"color:CornflowerBlue;\">Slicing and Indexing </H1>\n",
    "<p>arrayName[ith Value]\n",
    "<p>arrayName[row, column]\n",
    "<p>arrayName[rowSlice, colSlice]"
   ]
  },
  {
   "cell_type": "code",
   "execution_count": 131,
   "metadata": {},
   "outputs": [
    {
     "name": "stdout",
     "output_type": "stream",
     "text": [
      "[5 0 3 3 7 9]\n"
     ]
    },
    {
     "data": {
      "text/plain": [
       "3"
      ]
     },
     "execution_count": 131,
     "metadata": {},
     "output_type": "execute_result"
    }
   ],
   "source": [
    "print(x1)\n",
    "x1[2]"
   ]
  },
  {
   "cell_type": "code",
   "execution_count": 132,
   "metadata": {},
   "outputs": [
    {
     "name": "stdout",
     "output_type": "stream",
     "text": [
      "[[3 5 2 4]\n",
      " [7 6 8 8]\n",
      " [1 6 7 7]]\n"
     ]
    },
    {
     "data": {
      "text/plain": [
       "2"
      ]
     },
     "execution_count": 132,
     "metadata": {},
     "output_type": "execute_result"
    }
   ],
   "source": [
    "print(x2)\n",
    "x2[0,2]"
   ]
  },
  {
   "cell_type": "code",
   "execution_count": 133,
   "metadata": {},
   "outputs": [
    {
     "name": "stdout",
     "output_type": "stream",
     "text": [
      "[0 1 2 3 4 5 6 7 8 9]\n"
     ]
    },
    {
     "data": {
      "text/plain": [
       "array([0, 1, 2, 3, 4])"
      ]
     },
     "execution_count": 133,
     "metadata": {},
     "output_type": "execute_result"
    }
   ],
   "source": [
    "x = np.arange(10)\n",
    "print(x)\n",
    "\n",
    "# The first 5 elements\n",
    "x[:5]"
   ]
  },
  {
   "cell_type": "code",
   "execution_count": 134,
   "metadata": {},
   "outputs": [
    {
     "data": {
      "text/plain": [
       "array([5, 6, 7, 8, 9])"
      ]
     },
     "execution_count": 134,
     "metadata": {},
     "output_type": "execute_result"
    }
   ],
   "source": [
    "# The elements after position 5\n",
    "x[5:]"
   ]
  },
  {
   "cell_type": "code",
   "execution_count": 135,
   "metadata": {},
   "outputs": [
    {
     "data": {
      "text/plain": [
       "array([0, 2, 4, 6, 8])"
      ]
     },
     "execution_count": 135,
     "metadata": {},
     "output_type": "execute_result"
    }
   ],
   "source": [
    "# Every other element\n",
    "x[::2]"
   ]
  },
  {
   "cell_type": "code",
   "execution_count": 136,
   "metadata": {},
   "outputs": [
    {
     "data": {
      "text/plain": [
       "array([9, 8, 7, 6, 5, 4, 3, 2, 1, 0])"
      ]
     },
     "execution_count": 136,
     "metadata": {},
     "output_type": "execute_result"
    }
   ],
   "source": [
    "# Reverse the order of the elements\n",
    "x[::-1]"
   ]
  },
  {
   "cell_type": "code",
   "execution_count": 137,
   "metadata": {},
   "outputs": [
    {
     "name": "stdout",
     "output_type": "stream",
     "text": [
      "[[3 5 2 4]\n",
      " [7 6 8 8]\n",
      " [1 6 7 7]]\n"
     ]
    },
    {
     "data": {
      "text/plain": [
       "array([[3, 5, 2],\n",
       "       [7, 6, 8]])"
      ]
     },
     "execution_count": 137,
     "metadata": {},
     "output_type": "execute_result"
    }
   ],
   "source": [
    "# The first two rows and the first three columns\n",
    "print(x2)\n",
    "x2[:2, :3]"
   ]
  },
  {
   "cell_type": "code",
   "execution_count": 138,
   "metadata": {},
   "outputs": [
    {
     "data": {
      "text/plain": [
       "array([2, 8, 7])"
      ]
     },
     "execution_count": 138,
     "metadata": {},
     "output_type": "execute_result"
    }
   ],
   "source": [
    "# Return all of the values in the 3rd column as an array\n",
    "x2[:, 2]"
   ]
  },
  {
   "cell_type": "code",
   "execution_count": 139,
   "metadata": {},
   "outputs": [
    {
     "data": {
      "text/plain": [
       "array([7, 6, 8, 8])"
      ]
     },
     "execution_count": 139,
     "metadata": {},
     "output_type": "execute_result"
    }
   ],
   "source": [
    "# Return all of the values in the 2nd row\n",
    "x2[1]"
   ]
  },
  {
   "cell_type": "markdown",
   "metadata": {},
   "source": [
    "<b style=\"color:CornflowerBlue;\"> Reshaping </b> (dimensionality change or tranposition) requires the same number of \"cells\" between the source and target arrays\n"
   ]
  },
  {
   "cell_type": "code",
   "execution_count": 140,
   "metadata": {},
   "outputs": [
    {
     "name": "stdout",
     "output_type": "stream",
     "text": [
      "[[1 2 3]\n",
      " [4 5 6]\n",
      " [7 8 9]]\n"
     ]
    }
   ],
   "source": [
    "grid = np.arange(1, 10).reshape((3,3))  # Note the 2 sets of (())\n",
    "print(grid)"
   ]
  },
  {
   "cell_type": "code",
   "execution_count": 141,
   "metadata": {},
   "outputs": [
    {
     "name": "stdout",
     "output_type": "stream",
     "text": [
      "[[1]\n",
      " [2]\n",
      " [3]]\n",
      "[[1 2 3]]\n",
      "[[1]\n",
      " [2]\n",
      " [3]]\n"
     ]
    }
   ],
   "source": [
    "x = np.array([1,2,3])\n",
    "print(x.reshape((3,1)))\n",
    "print(x[np.newaxis, :])\n",
    "print(x[:, np.newaxis])  # Equivalent to x.reshape((3,1))"
   ]
  },
  {
   "cell_type": "code",
   "execution_count": 142,
   "metadata": {},
   "outputs": [
    {
     "name": "stdout",
     "output_type": "stream",
     "text": [
      "[1 2 3 4 5 6]\n",
      "[ 1  2  3  4  5  6 99 99 99]\n",
      "Add as new rows\n",
      "[[1 2 3]\n",
      " [4 5 6]\n",
      " [1 2 3]\n",
      " [4 5 6]]\n",
      "Add as new columns\n",
      "[[1 2 3 1 2 3]\n",
      " [4 5 6 4 5 6]]\n"
     ]
    }
   ],
   "source": [
    "# Setup\n",
    "x = np.array([1,2,3])\n",
    "y = np.array([4,5,6])\n",
    "z = [99, 99, 99]\n",
    "grid = ([[1, 2, 3],\n",
    "         [4, 5, 6]])\n",
    "\n",
    "print(np.concatenate([x,y]))\n",
    "print(np.concatenate([x,y,z]))\n",
    "print(\"Add as new rows\")\n",
    "print(np.concatenate([grid, grid]))\n",
    "print(\"Add as new columns\")\n",
    "print(np.concatenate([grid, grid], axis=1))   "
   ]
  },
  {
   "cell_type": "code",
   "execution_count": 143,
   "metadata": {},
   "outputs": [
    {
     "name": "stdout",
     "output_type": "stream",
     "text": [
      "[1 2 3] [99 99] [3 2 1]\n"
     ]
    }
   ],
   "source": [
    "# Split an array (also mutliple assignment)\n",
    "x = [1, 2, 3, 99, 99, 3, 2, 1]\n",
    "x1, x2, x3 = np.split(x, [3, 5])\n",
    "print(x1, x2, x3)"
   ]
  },
  {
   "cell_type": "markdown",
   "metadata": {},
   "source": [
    "<H1 style=\"color:CornflowerBlue;\">Broadcasting</H1>"
   ]
  },
  {
   "cell_type": "code",
   "execution_count": 144,
   "metadata": {},
   "outputs": [
    {
     "name": "stdout",
     "output_type": "stream",
     "text": [
      "[ 3.33066907e-17  1.33226763e-16 -2.22044605e-17]\n"
     ]
    }
   ],
   "source": [
    "# Center an array around 0 (zero)\n",
    "X = np.random.random((10, 3))\n",
    "Xmean = X.mean(0)\n",
    "X_centered = X - Xmean  #Broadcasting happens here\n",
    "print(X_centered.mean(0))"
   ]
  },
  {
   "cell_type": "code",
   "execution_count": 145,
   "metadata": {},
   "outputs": [
    {
     "name": "stdout",
     "output_type": "stream",
     "text": [
      "[[5 0 3 3]\n",
      " [7 9 3 5]\n",
      " [2 4 7 6]]\n",
      "8\n",
      "8\n",
      "[4 2 2]\n"
     ]
    }
   ],
   "source": [
    "# Broadcasting with Boolean condition matching\n",
    "x = np.random.RandomState(0).randint(10, size=(3, 4))\n",
    "print(x)\n",
    "print(np.count_nonzero(x < 6))\n",
    "print(np.sum(x < 6))\n",
    "\n",
    "# How many values (as a count) are less than 6 in each row?\n",
    "print(np.sum(x < 6, axis=1))"
   ]
  },
  {
   "cell_type": "code",
   "execution_count": 146,
   "metadata": {},
   "outputs": [
    {
     "name": "stdout",
     "output_type": "stream",
     "text": [
      "[[5 0 3 3]\n",
      " [7 9 3 5]\n",
      " [2 4 7 6]]\n",
      "[[False  True  True  True]\n",
      " [False False  True False]\n",
      " [ True  True False False]]\n",
      "[0 3 3 3 2 4]\n",
      "15\n"
     ]
    }
   ],
   "source": [
    "# bool Masking\n",
    "print(x)\n",
    "y = x < 5\n",
    "print(y)\n",
    "print(x[y])\n",
    "print(np.sum(x[y]))"
   ]
  },
  {
   "cell_type": "code",
   "execution_count": 147,
   "metadata": {},
   "outputs": [
    {
     "name": "stdout",
     "output_type": "stream",
     "text": [
      "[[ 0  1  2  3]\n",
      " [ 4  5  6  7]\n",
      " [ 8  9 10 11]]\n",
      "[ 2  5 11]\n",
      "[[0 0 0]\n",
      " [2 1 3]\n",
      " [4 2 6]]\n",
      "[10  8  9]\n"
     ]
    },
    {
     "data": {
      "text/plain": [
       "array([[ 0,  2],\n",
       "       [ 4,  6],\n",
       "       [ 8, 10]])"
      ]
     },
     "execution_count": 147,
     "metadata": {},
     "output_type": "execute_result"
    }
   ],
   "source": [
    "# A Random 3 X 10 with random numbers between 0 and 1\n",
    "X = np.arange(12).reshape((3, 4))\n",
    "print(X)\n",
    "row = np.array([0, 1, 2])\n",
    "col = np.array([2, 1, 3])\n",
    "print(X[row, col])  #Slicing by coordinate row:col Think x,y coordinates\n",
    "print(row[:, np.newaxis] * col)  # Slicing and broadcasting the product\n",
    "print(X[2, [2, 0, 1]])  # Give me the 2nd row's 3rd, 1st and 2nd value in an array. Remember array[row[], col[]]\n",
    "\n",
    "mask = np.array([1, 0, 1, 0], dtype = bool)\n",
    "X[row[:, np.newaxis], mask]  # Using masking and fancy indexing. Newaxis is used to increase the dimension of mask to 2\n",
    "# Remember the shape of the output is the shape of the indexed array not the source array that is being indexed"
   ]
  },
  {
   "cell_type": "code",
   "execution_count": 148,
   "metadata": {},
   "outputs": [
    {
     "name": "stdout",
     "output_type": "stream",
     "text": [
      "[2 4 3 4]\n"
     ]
    }
   ],
   "source": [
    "# This pattern is useful for binning data\n",
    "a = np.array([1, 2, 3, 4])\n",
    "b = np.array([1, 2])\n",
    "np.add.at(a, [0, 1], b)  #Similar to a for loop within an array, add the elements from b to a at the specified indices (0 and 1 in this case)\n",
    "print(a)"
   ]
  },
  {
   "cell_type": "markdown",
   "metadata": {},
   "source": [
    "<H1 style=\"color:CornflowerBlue;\">Sorting</H1>"
   ]
  },
  {
   "cell_type": "code",
   "execution_count": 149,
   "metadata": {},
   "outputs": [
    {
     "data": {
      "text/plain": [
       "array([1, 2, 3, 4, 5])"
      ]
     },
     "execution_count": 149,
     "metadata": {},
     "output_type": "execute_result"
    }
   ],
   "source": [
    "# A sorted version of the array without modifying the input array\n",
    "x = np.array([2, 1, 4, 3, 5])\n",
    "np.sort(x)"
   ]
  },
  {
   "cell_type": "code",
   "execution_count": 150,
   "metadata": {},
   "outputs": [
    {
     "data": {
      "text/plain": [
       "array([1, 2, 3, 3, 4, 5])"
      ]
     },
     "execution_count": 150,
     "metadata": {},
     "output_type": "execute_result"
    }
   ],
   "source": [
    "# To sort the input array in place\n",
    "x = np.array([2, 1, 3, 4, 3, 5])\n",
    "x.sort()\n",
    "x"
   ]
  },
  {
   "cell_type": "code",
   "execution_count": 151,
   "metadata": {},
   "outputs": [
    {
     "name": "stdout",
     "output_type": "stream",
     "text": [
      "[[6 3 7 4 6 9]\n",
      " [2 6 7 4 3 7]\n",
      " [7 2 5 4 1 7]\n",
      " [5 1 4 0 9 5]]\n",
      "\n",
      "[[2 1 4 0 1 5]\n",
      " [5 2 5 4 3 7]\n",
      " [6 3 7 4 6 7]\n",
      " [7 6 7 4 9 9]]\n",
      "\n",
      "[[3 4 6 6 7 9]\n",
      " [2 3 4 6 7 7]\n",
      " [1 2 4 5 7 7]\n",
      " [0 1 4 5 5 9]]\n"
     ]
    }
   ],
   "source": [
    "# Sort along columns\n",
    "rand = np.random.RandomState(42)  # returns a 1D array filled with 42 random numbers\n",
    "X = rand.randint(0, 10, (4, 6))   # returns a 4 X 6 array filled with randome numbers between 0 and 10 \n",
    "print(X)\n",
    "\n",
    "print()\n",
    "# Sort within each column. Using X.sort() instead would sort with replacement\n",
    "print(np.sort(X, axis=0))\n",
    "\n",
    "print()\n",
    "# Sort within each row\n",
    "print(np.sort(X, axis=1))\n"
   ]
  },
  {
   "cell_type": "code",
   "execution_count": 160,
   "metadata": {},
   "outputs": [
    {
     "name": "stdout",
     "output_type": "stream",
     "text": [
      "<matplotlib.collections.PathCollection object at 0x000001A67F5532E8>\n"
     ]
    },
    {
     "data": {
      "image/png": "[encoded data removed]",
      "text/plain": [
       "<Figure size 432x288 with 1 Axes>"
      ]
     },
     "metadata": {},
     "output_type": "display_data"
    }
   ],
   "source": [
    "X = rand.rand(10, 2)  # Return a 10 X 2 array with random numbers between 0 and 1\n",
    "# Allow the plot to be visible in this notebook below this code block\n",
    "%matplotlib inline  \n",
    "import matplotlib.pyplot as plt\n",
    "import seaborn; seaborn.set()  #plot styling\n",
    "plt.scatter(X[:, 0], X[:, 1], s = 100)   # Plot all the values in the 1st column to all the values in the 2nd column"
   ]
  },
  {
   "cell_type": "markdown",
   "metadata": {},
   "source": [
    "<H1 style=\"color:CornflowerBlue;\">Compound Arrays</H1>"
   ]
  },
  {
   "cell_type": "code",
   "execution_count": 172,
   "metadata": {},
   "outputs": [
    {
     "name": "stdout",
     "output_type": "stream",
     "text": [
      "[('', 0, 0.) ('', 0, 0.) ('', 0, 0.) ('', 0, 0.)]\n",
      "(4,)\n",
      "[('Alice', 25, 55. ) ('Bob', 45, 85.5) ('Cathy', 37, 68. )\n",
      " ('Doug', 19, 61.5)]\n"
     ]
    }
   ],
   "source": [
    "# Note: Compound (heterogenous element) arrays should be done in Pandas instead\n",
    "name = ['Alice', 'Bob', 'Cathy', 'Doug']\n",
    "age = [25, 45, 37, 19]\n",
    "weight = [55.0, 85.5, 68.0, 61.5]\n",
    "\n",
    "data = np.zeros(4, dtype={'names':('name', 'age', 'weight'),\n",
    "                 'formats':('U10', 'i4', 'f8')})\n",
    "print(data)\n",
    "print(data.shape)\n",
    "\n",
    "data['name'] = name\n",
    "data['age'] = age\n",
    "data['weight'] = weight\n",
    "\n",
    "print(data)\n"
   ]
  }
 ],
 "metadata": {
  "kernelspec": {
   "display_name": "Python 3",
   "language": "python",
   "name": "python3"
  },
  "language_info": {
   "codemirror_mode": {
    "name": "ipython",
    "version": 3
   },
   "file_extension": ".py",
   "mimetype": "text/x-python",
   "name": "python",
   "nbconvert_exporter": "python",
   "pygments_lexer": "ipython3",
   "version": "3.7.3"
  }
 },
 "nbformat": 4,
 "nbformat_minor": 4
}
